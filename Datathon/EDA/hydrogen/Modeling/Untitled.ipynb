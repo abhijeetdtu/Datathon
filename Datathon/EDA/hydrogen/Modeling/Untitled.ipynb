{
 "cells": [
  {
   "cell_type": "code",
   "execution_count": 1,
   "metadata": {},
   "outputs": [],
   "source": [
    "%load_ext autoreload\n",
    "%autoreload 2\n",
    "%matplotlib inline\n",
    "\n",
    "from Datathon.Utils.apache2Calc import *\n",
    "from Datathon.Utils.getData import *\n",
    "from Datathon.Utils.pipeFunctions import *\n",
    "\n",
    "from sklearn.pipeline import Pipeline\n",
    "\n",
    "from category_encoders import TargetEncoder , HelmertEncoder , JamesSteinEncoder,MEstimateEncoder\n",
    "from category_encoders.woe import WOEEncoder\n",
    "from sklearn.compose import ColumnTransformer\n",
    "from sklearn.impute import SimpleImputer\n",
    "from sklearn.preprocessing import StandardScaler\n",
    "\n",
    "from sklearn.experimental import enable_iterative_imputer\n",
    "from sklearn.impute import IterativeImputer\n",
    "from pyod.models.knn import KNN\n",
    "\n",
    "from sklearn.preprocessing import FunctionTransformer\n",
    "from sklearn.decomposition import KernelPCA , TruncatedSVD\n",
    "\n",
    "import numpy as np"
   ]
  },
  {
   "cell_type": "code",
   "execution_count": 2,
   "metadata": {},
   "outputs": [],
   "source": [
    "class RemoveOutliers():\n",
    "\n",
    "    def __init__(self):\n",
    "        self.estimator = KNN()\n",
    "\n",
    "    def _remove(self,X):\n",
    "        preds = self.estimator.predict(X)\n",
    "        return X[preds , :]\n",
    "\n",
    "    def fit(self,X,y=None):\n",
    "        self.estimator.fit(X)\n",
    "        return self\n",
    "\n",
    "    def transform(self,X,y=None):\n",
    "        return self._remove(X)"
   ]
  },
  {
   "cell_type": "code",
   "execution_count": 3,
   "metadata": {},
   "outputs": [],
   "source": [
    "adf = getTrainingData()\n",
    "#adf = adf.dropna(thresh=adf.shape[0]*0.7 , axis=1)\n",
    "\n",
    "cols_useless =[ \"encounter_id\", \"hospital_id\",\"patient_id\" , \"icu_id\" , \"gender\" , \"ethnicity\"]\n",
    "#adf = adf.drop(cols_useless,  axis=1)\n",
    "\n",
    "#cat_cols = [c for c in getCategorialColumns(adf) if c not in cols_useless + [\"hospital_death\"]]\n",
    "def tooManyMissing(adf):\n",
    "    tdf = adf.dropna(thresh=adf.shape[0]*0.75 , axis=1)\n",
    "    return list(set(adf.columns).difference(set(tdf.columns)))\n",
    "\n",
    "tooManyMissing_cols = []#tooManyMissing(adf)\n",
    "\n",
    "cat_cols = [c for c in getCategorialColumns(adf) if c not in [\"hospital_death\"] + tooManyMissing_cols]\n",
    "num_cols = [c for c in getNumericColumns(adf) if c not in tooManyMissing_cols]\n",
    "DEPENDENT_VARIABLE = getDependentVariable()"
   ]
  },
  {
   "cell_type": "code",
   "execution_count": 4,
   "metadata": {},
   "outputs": [
    {
     "data": {
      "text/plain": [
       "156"
      ]
     },
     "execution_count": 4,
     "metadata": {},
     "output_type": "execute_result"
    }
   ],
   "source": [
    "len(num_cols)"
   ]
  },
  {
   "cell_type": "code",
   "execution_count": 5,
   "metadata": {},
   "outputs": [],
   "source": [
    "\n",
    "numeric_cols_pipe = Pipeline(steps=[\n",
    "    ('mean impute' ,SimpleImputer(strategy=\"mean\") )\n",
    "    ,('Standard Scale' ,StandardScaler() )\n",
    "    ,('Kernel PCA' , TruncatedSVD(n_components=100))\n",
    "])\n",
    "\n",
    "\n",
    "cat_cols_pipe = Pipeline(steps=[\n",
    "    ('Drop Useless' ,\n",
    "        ColumnTransformer([\n",
    "            ('Drop Useless Categorical Features' ,'drop' ,cols_useless )\n",
    "        ],remainder='passthrough')\n",
    "    )\n",
    "    ,('Most Frequent impute' ,SimpleImputer(strategy=\"most_frequent\"))\n",
    "    ,('Encoding' , HelmertEncoder())\n",
    "])\n",
    "\n",
    "transform_pipe = Pipeline(steps=[\n",
    "     ('Column Transform' ,\n",
    "        ColumnTransformer([\n",
    "            ('Drop Too Many Missing' , 'drop' , tooManyMissing_cols)\n",
    "            ,('Cat Cols Pipe' ,cat_cols_pipe ,cat_cols )\n",
    "            ,('Numeric Cols Pipe' ,numeric_cols_pipe ,num_cols )\n",
    "        ])\n",
    "    )\n",
    "    #,('Drop Outlier Rows' ,RemoveOutliers())\n",
    "    #,('Scale Everything' , StandardScaler())\n",
    "    \n",
    "\n",
    "])"
   ]
  },
  {
   "cell_type": "code",
   "execution_count": 6,
   "metadata": {},
   "outputs": [],
   "source": [
    "X = adf.drop([DEPENDENT_VARIABLE] , axis=1)\n",
    "y = adf[DEPENDENT_VARIABLE]"
   ]
  },
  {
   "cell_type": "code",
   "execution_count": 7,
   "metadata": {},
   "outputs": [],
   "source": [
    "trX = transform_pipe.fit_transform(X,y)"
   ]
  },
  {
   "cell_type": "code",
   "execution_count": 8,
   "metadata": {},
   "outputs": [
    {
     "data": {
      "text/plain": [
       "(91713, 164)"
      ]
     },
     "execution_count": 8,
     "metadata": {},
     "output_type": "execute_result"
    }
   ],
   "source": [
    "trX.shape"
   ]
  },
  {
   "cell_type": "code",
   "execution_count": 11,
   "metadata": {},
   "outputs": [],
   "source": [
    "import lightgbm as lgb\n",
    "\n",
    "params ={'n_estimators':1000,\n",
    "                    'boosting_type': 'gbdt',\n",
    "                    'objective': 'binary',\n",
    "                    'metric': 'auc',\n",
    "                    'subsample': 0.75,\n",
    "                    'learning_rate': 0.1,\n",
    "                    'feature_fraction': 0.7,\n",
    "                    'max_depth': 15,\n",
    "                    'lambda_l1': 200,\n",
    "                    'lambda_l2': 100,\n",
    "                    \"class_weight\":{0:1 , 1:200},\n",
    "                    #'is_unbalance' : True ,\n",
    "                    'scale_pos_weight' : 3\n",
    "                    ,\"n_jobs\":2\n",
    "                    }\n",
    "\n",
    "param_grid = {'n_estimators':1000,\n",
    "                    'boosting_type': ['gbdt', 'goss'],\n",
    "                    'objective': 'binary',\n",
    "                    'metric': 'auc',\n",
    "                    'subsample': np.linspace(0.5, 0.9 , 5),\n",
    "                    'learning_rate': 0.1,\n",
    "                    'feature_fraction': np.linspace(0.5, 0.9 , 5),\n",
    "                    'max_depth': np.linspace(10, 20 , 5),\n",
    "                    'lambda_l1': 200,\n",
    "                    'lambda_l2': 100,\n",
    "                    \"class_weight\":{0:1 , 1:200},\n",
    "                    #'is_unbalance' : True ,\n",
    "                    'scale_pos_weight' : 3\n",
    "                    ,\"n_jobs\":2\n",
    "                    }\n",
    "\n",
    "\n",
    "lgclf = lgb.LGBMClassifier(**params)"
   ]
  },
  {
   "cell_type": "code",
   "execution_count": 12,
   "metadata": {},
   "outputs": [],
   "source": [
    "watevclf = lgclf"
   ]
  },
  {
   "cell_type": "code",
   "execution_count": 13,
   "metadata": {},
   "outputs": [
    {
     "name": "stderr",
     "output_type": "stream",
     "text": [
      "/opt/conda/lib/python3.7/site-packages/joblib/externals/loky/process_executor.py:706: UserWarning: A worker stopped while some jobs were given to the executor. This can be caused by a too short worker timeout or by a memory leak.\n",
      "  \"timeout or by a memory leak.\", UserWarning\n"
     ]
    }
   ],
   "source": [
    "from plotnine import *\n",
    "from sklearn.model_selection import learning_curve\n",
    "\n",
    "\n",
    "train_sizes, train_scores, valid_scores = learning_curve(watevclf, trX, y,scoring=\"roc_auc\", train_sizes=np.linspace(0.1, 1.0, 10), cv=5 , n_jobs=-1)"
   ]
  },
  {
   "cell_type": "code",
   "execution_count": 14,
   "metadata": {},
   "outputs": [
    {
     "data": {
      "image/png": "[encoded data removed]",
      "text/plain": [
       "<Figure size 640x480 with 1 Axes>"
      ]
     },
     "metadata": {},
     "output_type": "display_data"
    },
    {
     "data": {
      "text/plain": [
       "<ggplot: (8776203866265)>"
      ]
     },
     "execution_count": 14,
     "metadata": {},
     "output_type": "execute_result"
    }
   ],
   "source": [
    "lcurveplotdf = pd.DataFrame({\"train_size\":train_sizes , \"train_score\" : train_scores[:,1] , \"valid_score\":valid_scores[:,1]})\n",
    "\n",
    "ggplot(lcurveplotdf ) + \\\n",
    "    geom_line(aes(x=\"train_size\" , y=\"train_score\") , color=\"red\") + \\\n",
    "    geom_line(aes(x=\"train_size\" , y=\"valid_score\") , color=\"green\")"
   ]
  },
  {
   "cell_type": "code",
   "execution_count": 15,
   "metadata": {},
   "outputs": [],
   "source": [
    "lgclf.fit(trX,y)\n",
    "testdf = getUnlabledData()\n",
    "\n",
    "Xtb = testdf.drop([DEPENDENT_VARIABLE] , axis=1)\n",
    "ytb = testdf[DEPENDENT_VARIABLE]\n",
    "\n",
    "testX = transform_pipe.transform(Xtb)\n",
    "\n",
    "testX.shape\n",
    "preds = lgclf.predict_proba(testX)\n",
    "\n",
    "saveKeraspreds  =preds[:,1]\n",
    "results = pd.DataFrame({\"encounter_id\" : testdf['encounter_id'] , \"hospital_death\" :preds[:,1] })\n",
    "results.to_csv(\"./submission.csv\" , index=False)\n"
   ]
  },
  {
   "cell_type": "code",
   "execution_count": null,
   "metadata": {},
   "outputs": [
    {
     "name": "stdout",
     "output_type": "stream",
     "text": [
      "Fitting 2 folds for each of 12000 candidates, totalling 24000 fits\n"
     ]
    },
    {
     "name": "stderr",
     "output_type": "stream",
     "text": [
      "[Parallel(n_jobs=-1)]: Using backend LokyBackend with 8 concurrent workers.\n",
      "[Parallel(n_jobs=-1)]: Done   2 tasks      | elapsed:  1.1min\n",
      "[Parallel(n_jobs=-1)]: Done   9 tasks      | elapsed:  2.3min\n",
      "[Parallel(n_jobs=-1)]: Done  16 tasks      | elapsed:  2.6min\n",
      "[Parallel(n_jobs=-1)]: Done  25 tasks      | elapsed:  5.8min\n",
      "[Parallel(n_jobs=-1)]: Done  34 tasks      | elapsed:  7.9min\n",
      "[Parallel(n_jobs=-1)]: Done  45 tasks      | elapsed: 10.1min\n",
      "[Parallel(n_jobs=-1)]: Done  56 tasks      | elapsed: 13.3min\n",
      "[Parallel(n_jobs=-1)]: Done  69 tasks      | elapsed: 17.3min\n",
      "[Parallel(n_jobs=-1)]: Done  82 tasks      | elapsed: 21.6min\n",
      "[Parallel(n_jobs=-1)]: Done  97 tasks      | elapsed: 25.3min\n",
      "[Parallel(n_jobs=-1)]: Done 112 tasks      | elapsed: 26.2min\n",
      "[Parallel(n_jobs=-1)]: Done 129 tasks      | elapsed: 27.7min\n",
      "[Parallel(n_jobs=-1)]: Done 146 tasks      | elapsed: 29.1min\n",
      "[Parallel(n_jobs=-1)]: Done 165 tasks      | elapsed: 33.4min\n",
      "[Parallel(n_jobs=-1)]: Done 184 tasks      | elapsed: 38.6min\n",
      "[Parallel(n_jobs=-1)]: Done 205 tasks      | elapsed: 43.5min\n",
      "[Parallel(n_jobs=-1)]: Done 226 tasks      | elapsed: 50.0min\n",
      "[Parallel(n_jobs=-1)]: Done 249 tasks      | elapsed: 55.5min\n",
      "[Parallel(n_jobs=-1)]: Done 272 tasks      | elapsed: 57.8min\n",
      "[Parallel(n_jobs=-1)]: Done 297 tasks      | elapsed: 59.6min\n",
      "[Parallel(n_jobs=-1)]: Done 322 tasks      | elapsed: 65.4min\n",
      "[Parallel(n_jobs=-1)]: Done 349 tasks      | elapsed: 72.7min\n",
      "[Parallel(n_jobs=-1)]: Done 376 tasks      | elapsed: 80.4min\n",
      "[Parallel(n_jobs=-1)]: Done 405 tasks      | elapsed: 88.6min\n",
      "[Parallel(n_jobs=-1)]: Done 434 tasks      | elapsed: 93.6min\n",
      "[Parallel(n_jobs=-1)]: Done 465 tasks      | elapsed: 100.7min\n",
      "[Parallel(n_jobs=-1)]: Done 496 tasks      | elapsed: 108.9min\n",
      "[Parallel(n_jobs=-1)]: Done 529 tasks      | elapsed: 118.8min\n",
      "[Parallel(n_jobs=-1)]: Done 562 tasks      | elapsed: 127.6min\n",
      "[Parallel(n_jobs=-1)]: Done 597 tasks      | elapsed: 137.4min\n",
      "[Parallel(n_jobs=-1)]: Done 632 tasks      | elapsed: 145.7min\n",
      "[Parallel(n_jobs=-1)]: Done 669 tasks      | elapsed: 155.7min\n",
      "[Parallel(n_jobs=-1)]: Done 706 tasks      | elapsed: 164.6min\n",
      "[Parallel(n_jobs=-1)]: Done 745 tasks      | elapsed: 167.4min\n",
      "[Parallel(n_jobs=-1)]: Done 784 tasks      | elapsed: 176.2min\n",
      "[Parallel(n_jobs=-1)]: Done 825 tasks      | elapsed: 188.1min\n",
      "[Parallel(n_jobs=-1)]: Done 866 tasks      | elapsed: 195.1min\n",
      "[Parallel(n_jobs=-1)]: Done 909 tasks      | elapsed: 201.1min\n",
      "[Parallel(n_jobs=-1)]: Done 952 tasks      | elapsed: 211.0min\n",
      "[Parallel(n_jobs=-1)]: Done 997 tasks      | elapsed: 223.5min\n",
      "[Parallel(n_jobs=-1)]: Done 1042 tasks      | elapsed: 229.8min\n",
      "[Parallel(n_jobs=-1)]: Done 1089 tasks      | elapsed: 240.7min\n",
      "[Parallel(n_jobs=-1)]: Done 1136 tasks      | elapsed: 254.7min\n",
      "[Parallel(n_jobs=-1)]: Done 1185 tasks      | elapsed: 262.5min\n",
      "[Parallel(n_jobs=-1)]: Done 1234 tasks      | elapsed: 273.4min\n",
      "[Parallel(n_jobs=-1)]: Done 1285 tasks      | elapsed: 286.0min\n",
      "[Parallel(n_jobs=-1)]: Done 1336 tasks      | elapsed: 292.4min\n",
      "[Parallel(n_jobs=-1)]: Done 1389 tasks      | elapsed: 303.3min\n",
      "[Parallel(n_jobs=-1)]: Done 1442 tasks      | elapsed: 318.2min\n",
      "[Parallel(n_jobs=-1)]: Done 1497 tasks      | elapsed: 322.9min\n",
      "[Parallel(n_jobs=-1)]: Done 1552 tasks      | elapsed: 336.7min\n",
      "[Parallel(n_jobs=-1)]: Done 1609 tasks      | elapsed: 350.9min\n",
      "[Parallel(n_jobs=-1)]: Done 1666 tasks      | elapsed: 359.9min\n",
      "[Parallel(n_jobs=-1)]: Done 1725 tasks      | elapsed: 375.6min\n",
      "[Parallel(n_jobs=-1)]: Done 1784 tasks      | elapsed: 385.8min\n",
      "[Parallel(n_jobs=-1)]: Done 1845 tasks      | elapsed: 398.4min\n",
      "[Parallel(n_jobs=-1)]: Done 1906 tasks      | elapsed: 413.8min\n",
      "[Parallel(n_jobs=-1)]: Done 1969 tasks      | elapsed: 422.4min\n",
      "[Parallel(n_jobs=-1)]: Done 2032 tasks      | elapsed: 438.9min\n",
      "[Parallel(n_jobs=-1)]: Done 2097 tasks      | elapsed: 447.5min\n",
      "[Parallel(n_jobs=-1)]: Done 2162 tasks      | elapsed: 462.3min\n",
      "[Parallel(n_jobs=-1)]: Done 2229 tasks      | elapsed: 476.4min\n",
      "[Parallel(n_jobs=-1)]: Done 2296 tasks      | elapsed: 490.1min\n"
     ]
    }
   ],
   "source": [
    "from sklearn.model_selection import GridSearchCV\n",
    "\n",
    "param_grid = {'n_estimators':[1000],\n",
    "                    'boosting_type': ['gbdt', 'goss'],\n",
    "                    'objective': ['binary'],\n",
    "                    'metric': ['auc'],\n",
    "                    'subsample': np.linspace(0.5, 0.9 , 5),\n",
    "                    'learning_rate': [0.1 , 0.01 , 1],\n",
    "                    'feature_fraction': np.linspace(0.5, 0.9 , 5),\n",
    "                    'max_depth': [int(i) for i in np.linspace(10, 20 , 5)],\n",
    "                    'lambda_l1': [0.1 , 1, 10,20],\n",
    "                    'lambda_l2': [0.1 , 1, 10,20],\n",
    "                    \"class_weight\":[{0:1 , 1:200}]\n",
    "                    #'is_unbalance' : True ,\n",
    "                    #'scale_pos_weight' : 3\n",
    "                    }\n",
    "\n",
    "\n",
    "lgclf = lgb.LGBMClassifier(**params)\n",
    "\n",
    "gs = GridSearchCV(lgclf , param_grid , n_jobs=-1,scoring=\"roc_auc\" , cv = 2 , verbose=10)\n",
    "gs.fit(trX , y)"
   ]
  },
  {
   "cell_type": "code",
   "execution_count": null,
   "metadata": {},
   "outputs": [],
   "source": []
  }
 ],
 "metadata": {
  "kernelspec": {
   "display_name": "Python 3",
   "language": "python",
   "name": "python3"
  },
  "language_info": {
   "codemirror_mode": {
    "name": "ipython",
    "version": 3
   },
   "file_extension": ".py",
   "mimetype": "text/x-python",
   "name": "python",
   "nbconvert_exporter": "python",
   "pygments_lexer": "ipython3",
   "version": "3.7.6"
  }
 },
 "nbformat": 4,
 "nbformat_minor": 4
}
