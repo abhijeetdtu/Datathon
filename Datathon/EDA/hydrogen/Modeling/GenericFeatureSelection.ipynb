{
 "cells": [
  {
   "cell_type": "code",
   "execution_count": 1,
   "metadata": {},
   "outputs": [
    {
     "name": "stderr",
     "output_type": "stream",
     "text": [
      "/opt/conda/lib/python3.7/site-packages/sklearn/utils/deprecation.py:144: FutureWarning: The sklearn.metrics.scorer module is  deprecated in version 0.22 and will be removed in version 0.24. The corresponding classes / functions should instead be imported from sklearn.metrics. Anything that cannot be imported from sklearn.metrics is now part of the private API.\n",
      "  warnings.warn(message, FutureWarning)\n",
      "/opt/conda/lib/python3.7/site-packages/sklearn/utils/deprecation.py:144: FutureWarning: The sklearn.feature_selection.base module is  deprecated in version 0.22 and will be removed in version 0.24. The corresponding classes / functions should instead be imported from sklearn.feature_selection. Anything that cannot be imported from sklearn.feature_selection is now part of the private API.\n",
      "  warnings.warn(message, FutureWarning)\n",
      "/opt/conda/lib/python3.7/site-packages/sklearn/externals/joblib/__init__.py:15: FutureWarning: sklearn.externals.joblib is deprecated in 0.21 and will be removed in 0.23. Please import this functionality directly from joblib, which can be installed with: pip install joblib. If this warning is raised when loading pickled models, you may need to re-serialize those models with scikit-learn 0.21+.\n",
      "  warnings.warn(msg, category=FutureWarning)\n"
     ]
    }
   ],
   "source": [
    "%load_ext autoreload\n",
    "%autoreload 2\n",
    "%matplotlib inline\n",
    "\n",
    "from Datathon.Utils.apache2Calc import *\n",
    "from Datathon.Utils.getData import *\n",
    "from Datathon.Utils.pipeFunctions import *\n",
    "\n",
    "from sklearn.pipeline import Pipeline\n",
    "\n",
    "from category_encoders import TargetEncoder , HelmertEncoder , JamesSteinEncoder,MEstimateEncoder\n",
    "from category_encoders.woe import WOEEncoder\n",
    "from sklearn.compose import ColumnTransformer\n",
    "from sklearn.impute import SimpleImputer\n",
    "from sklearn.preprocessing import StandardScaler\n",
    "\n",
    "from sklearn.experimental import enable_iterative_imputer\n",
    "from sklearn.impute import IterativeImputer\n",
    "from pyod.models.knn import KNN\n",
    "\n",
    "from sklearn.preprocessing import FunctionTransformer\n",
    "from sklearn.decomposition import KernelPCA , TruncatedSVD\n",
    "\n",
    "import numpy as np\n",
    "\n",
    "from genetic_selection import GeneticSelectionCV"
   ]
  },
  {
   "cell_type": "code",
   "execution_count": 2,
   "metadata": {},
   "outputs": [],
   "source": [
    "adf = getTrainingData()\n",
    "#adf = adf.dropna(thresh=adf.shape[0]*0.7 , axis=1)\n",
    "\n",
    "cols_useless =[ \"encounter_id\", \"hospital_id\",\"patient_id\" , \"icu_id\" , \"gender\" , \"ethnicity\"]\n",
    "#adf = adf.drop(cols_useless,  axis=1)\n",
    "\n",
    "#cat_cols = [c for c in getCategorialColumns(adf) if c not in cols_useless + [\"hospital_death\"]]\n",
    "def tooManyMissing(adf):\n",
    "    tdf = adf.dropna(thresh=adf.shape[0]*0.75 , axis=1)\n",
    "    return list(set(adf.columns).difference(set(tdf.columns)))\n",
    "\n",
    "tooManyMissing_cols = []#tooManyMissing(adf)\n",
    "\n",
    "cat_cols = [c for c in getCategorialColumns(adf) if c not in [\"hospital_death\"] + tooManyMissing_cols]\n",
    "num_cols = [c for c in getNumericColumns(adf) if c not in tooManyMissing_cols]\n",
    "DEPENDENT_VARIABLE = getDependentVariable()"
   ]
  },
  {
   "cell_type": "code",
   "execution_count": 4,
   "metadata": {},
   "outputs": [],
   "source": [
    "numeric_cols_pipe = Pipeline(steps=[\n",
    "    ('mean impute' ,SimpleImputer(strategy=\"mean\") )\n",
    "    ,('Standard Scale' ,StandardScaler() )\n",
    "])\n",
    "\n",
    "\n",
    "cat_cols_pipe = Pipeline(steps=[\n",
    "    ('Drop Useless' ,\n",
    "        ColumnTransformer([\n",
    "            ('Drop Useless Categorical Features' ,'drop' ,cols_useless )\n",
    "        ],remainder='passthrough')\n",
    "    )\n",
    "    ,('Most Frequent impute' ,SimpleImputer(strategy=\"most_frequent\"))\n",
    "    ,('Encoding' , HelmertEncoder())\n",
    "])\n",
    "\n",
    "transform_pipe = Pipeline(steps=[\n",
    "     ('Column Transform' ,\n",
    "        ColumnTransformer([\n",
    "            ('Drop Too Many Missing' , 'drop' , tooManyMissing_cols)\n",
    "            ,('Cat Cols Pipe' ,cat_cols_pipe ,cat_cols )\n",
    "            ,('Numeric Cols Pipe' ,numeric_cols_pipe ,num_cols )\n",
    "        ])\n",
    "    )\n",
    "    #,('Drop Outlier Rows' ,RemoveOutliers())\n",
    "    #,('Scale Everything' , StandardScaler())\n",
    "    \n",
    "\n",
    "])"
   ]
  },
  {
   "cell_type": "code",
   "execution_count": 5,
   "metadata": {},
   "outputs": [],
   "source": [
    "X = adf.drop([DEPENDENT_VARIABLE] , axis=1)\n",
    "y = adf[DEPENDENT_VARIABLE]\n",
    "trX = transform_pipe.fit_transform(X,y)"
   ]
  },
  {
   "cell_type": "code",
   "execution_count": 6,
   "metadata": {},
   "outputs": [],
   "source": [
    "from genetic_selection import GeneticSelectionCV\n",
    "from sklearn.linear_model import LogisticRegression\n",
    "\n",
    "estimator = LogisticRegression(solver=\"liblinear\")\n"
   ]
  },
  {
   "cell_type": "code",
   "execution_count": 7,
   "metadata": {},
   "outputs": [],
   "source": [
    "selector = GeneticSelectionCV(estimator,\n",
    "                                  cv=5,\n",
    "                                  verbose=1,\n",
    "                                  scoring=\"roc_auc\",\n",
    "                                  n_population=50,\n",
    "                                  crossover_proba=0.5,\n",
    "                                  mutation_proba=0.2,\n",
    "                                  n_generations=5,\n",
    "                                  crossover_independent_proba=0.5,\n",
    "                                  mutation_independent_proba=0.05,\n",
    "                                  tournament_size=3,\n",
    "                                  n_gen_no_change=10,\n",
    "                                  caching=True,\n",
    "                                  n_jobs=-1)"
   ]
  },
  {
   "cell_type": "code",
   "execution_count": null,
   "metadata": {},
   "outputs": [
    {
     "name": "stdout",
     "output_type": "stream",
     "text": [
      "Selecting features with genetic algorithm.\n",
      "gen\tnevals\tavg                        \tstd                            \tmin                      \tmax                        \n",
      "0  \t50    \t[  0.86114967 110.92      ]\t[6.48235771e-03 7.15497030e+00]\t[ 0.84485902 94.        ]\t[  0.87244698 125.        ]\n",
      "1  \t30    \t[  0.86549472 111.68      ]\t[4.06013953e-03 6.35748378e+00]\t[ 0.85575885 99.        ]\t[  0.87479987 125.        ]\n",
      "2  \t34    \t[  0.86877191 112.82      ]\t[4.12549170e-03 6.17637434e+00]\t[  0.85342936 101.        ]\t[  0.87741427 125.        ]\n",
      "3  \t32    \t[  0.87212298 114.2       ]\t[2.46845863e-03 6.30555311e+00]\t[  0.86694451 102.        ]\t[  0.87737633 126.        ]\n",
      "4  \t28    \t[  0.87371576 114.08      ]\t[1.99195928e-03 6.17686004e+00]\t[  0.86894582 101.        ]\t[  0.87737633 126.        ]\n",
      "5  \t36    \t[  0.87505449 113.98      ]\t[1.59741059e-03 5.80168941e+00]\t[  0.86989355 101.        ]\t[  0.87754964 129.        ]\n",
      "6  \t28    \t[  0.87608556 114.32      ]\t[1.16213936e-03 5.33456652e+00]\t[  0.8726423 105.       ]  \t[  0.87795836 128.        ]\n",
      "7  \t24    \t[  0.87657331 113.06      ]\t[1.22120479e-03 4.50958978e+00]\t[  0.87191481 103.        ]\t[  0.87823348 122.        ]\n",
      "8  \t33    \t[  0.87703325 113.54      ]\t[9.99737854e-04 5.15445438e+00]\t[  0.87431735 102.        ]\t[  0.87888031 124.        ]\n",
      "9  \t32    \t[  0.87733479 115.02      ]\t[1.60085357e-03 5.74626835e+00]\t[  0.87040796 102.        ]\t[  0.87932066 128.        ]\n",
      "10 \t30    \t[  0.87816422 117.9       ]\t[8.15641640e-04 5.22781025e+00]\t[  0.87565804 107.        ]\t[  0.87963866 129.        ]\n",
      "11 \t40    \t[  0.87845508 119.54      ]\t[1.20262225e-03 5.59717786e+00]\t[  0.87288596 110.        ]\t[  0.88008385 130.        ]\n",
      "12 \t27    \t[  0.87890039 121.2       ]\t[1.37308348e-03 4.58257569e+00]\t[  0.87295773 112.        ]\t[  0.8804791 130.       ]  \n",
      "13 \t30    \t[  0.87942639 122.88      ]\t[1.30481417e-03 4.08235226e+00]\t[  0.87392658 115.        ]\t[  0.8804791 131.       ]  \n",
      "14 \t40    \t[  0.87980618 122.46      ]\t[5.60628885e-04 3.96590469e+00]\t[  0.87831564 115.        ]\t[  0.88074279 134.        ]\n",
      "15 \t34    \t[  0.87990582 123.04      ]\t[9.60150460e-04 3.38207037e+00]\t[  0.87462215 114.        ]\t[  0.88093546 129.        ]\n",
      "16 \t26    \t[  0.8801636 122.44     ]  \t[8.24513894e-04 2.96081070e+00]\t[  0.87696272 116.        ]\t[  0.88084527 129.        ]\n",
      "17 \t34    \t[  0.88031589 121.98      ]\t[6.80252719e-04 3.55803316e+00]\t[  0.87667136 114.        ]\t[  0.88098362 130.        ]\n",
      "18 \t23    \t[  0.88026173 121.9       ]\t[1.27838380e-03 4.09023227e+00]\t[  0.87389108 112.        ]\t[  0.88148434 133.        ]\n",
      "19 \t26    \t[  0.88027523 120.9       ]\t[1.42987524e-03 3.70000000e+00]\t[  0.87302914 114.        ]\t[  0.88120981 130.        ]\n",
      "20 \t34    \t[  0.88068249 121.        ]\t[5.09247755e-04 3.75765885e+00]\t[  0.87819116 114.        ]\t[  0.88123808 129.        ]\n",
      "21 \t34    \t[  0.88073341 120.9       ]\t[8.30212369e-04 4.20119031e+00]\t[  0.87614698 113.        ]\t[  0.88138746 129.        ]\n",
      "22 \t31    \t[  0.88086178 122.46      ]\t[7.09248764e-04 3.41297524e+00]\t[  0.87817187 115.        ]\t[  0.88145371 129.        ]\n",
      "23 \t37    \t[  0.88091526 123.6       ]\t[9.97431675e-04 3.52136337e+00]\t[  0.87564925 115.        ]\t[  0.88156195 131.        ]\n",
      "24 \t26    \t[  0.88111196 123.14      ]\t[1.10432230e-03 3.51004273e+00]\t[  0.873635 117.      ]    \t[  0.88156195 133.        ]\n",
      "25 \t31    \t[  0.88106794 124.12      ]\t[7.34353805e-04 4.25036469e+00]\t[  0.87769419 116.        ]\t[  0.88172419 134.        ]\n",
      "26 \t38    \t[  0.88115455 124.74      ]\t[9.88026951e-04 3.75664744e+00]\t[  0.87484109 118.        ]\t[  0.88172419 135.        ]\n",
      "27 \t33    \t[  0.88131069 122.74      ]\t[5.01488100e-04 3.27298029e+00]\t[  0.87981566 114.        ]\t[  0.88173067 129.        ]\n",
      "28 \t25    \t[  0.88135087 122.26      ]\t[6.98012283e-04 3.03189710e+00]\t[  0.87811748 116.        ]\t[  0.88175985 129.        ]\n",
      "29 \t30    \t[  0.88126067 122.82      ]\t[1.05645127e-03 3.68613619e+00]\t[  0.87595112 115.        ]\t[  0.88177163 132.        ]\n",
      "30 \t28    \t[  0.88152717 123.26      ]\t[4.73254886e-04 3.03848647e+00]\t[  0.87941673 117.        ]\t[  0.88196269 132.        ]\n",
      "31 \t30    \t[  0.8816025 122.78     ]  \t[3.69075686e-04 3.28809976e+00]\t[  0.87993958 115.        ]\t[  0.88196269 132.        ]\n",
      "32 \t36    \t[  0.88154491 123.14      ]\t[7.39625750e-04 3.20630629e+00]\t[  0.87795593 117.        ]\t[  0.88196269 132.        ]\n",
      "33 \t23    \t[  0.88152338 123.28      ]\t[1.20883357e-03 2.73525136e+00]\t[  0.87468026 117.        ]\t[  0.88196269 132.        ]\n",
      "34 \t28    \t[  0.88178685 122.7       ]\t[3.19532357e-04 2.42693222e+00]\t[  0.88048126 117.        ]\t[  0.88200335 129.        ]\n",
      "35 \t25    \t[  0.88183105 122.44      ]\t[3.69771572e-04 2.29050213e+00]\t[  0.88007408 116.        ]\t[  0.882009 127.      ]    \n"
     ]
    }
   ],
   "source": [
    "selector.fit(trX , y)"
   ]
  },
  {
   "cell_type": "code",
   "execution_count": null,
   "metadata": {},
   "outputs": [],
   "source": [
    "selector.support_"
   ]
  },
  {
   "cell_type": "code",
   "execution_count": null,
   "metadata": {},
   "outputs": [],
   "source": []
  }
 ],
 "metadata": {
  "kernelspec": {
   "display_name": "Python 3",
   "language": "python",
   "name": "python3"
  },
  "language_info": {
   "codemirror_mode": {
    "name": "ipython",
    "version": 3
   },
   "file_extension": ".py",
   "mimetype": "text/x-python",
   "name": "python",
   "nbconvert_exporter": "python",
   "pygments_lexer": "ipython3",
   "version": "3.7.6"
  }
 },
 "nbformat": 4,
 "nbformat_minor": 4
}
