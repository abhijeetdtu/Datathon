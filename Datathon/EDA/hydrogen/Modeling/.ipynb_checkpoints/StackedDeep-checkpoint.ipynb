{
 "cells": [
  {
   "cell_type": "code",
   "execution_count": 1,
   "metadata": {},
   "outputs": [],
   "source": [
    "%load_ext autoreload\n",
    "%autoreload 2\n",
    "%matplotlib inline"
   ]
  },
  {
   "cell_type": "code",
   "execution_count": 2,
   "metadata": {},
   "outputs": [],
   "source": [
    "from Datathon.Utils.apache2Calc import *\n",
    "from Datathon.Utils.getData import *\n",
    "from Datathon.Utils.pipeFunctions import *\n",
    "\n",
    "from sklearn.pipeline import Pipeline\n",
    "\n",
    "\n",
    "from category_encoders.woe import WOEEncoder\n",
    "from sklearn.compose import ColumnTransformer\n",
    "from sklearn.impute import SimpleImputer\n",
    "from sklearn.preprocessing import StandardScaler\n",
    "\n",
    "from sklearn.experimental import enable_iterative_imputer\n",
    "from sklearn.impute import IterativeImputer\n",
    "from pyod.models.knn import KNN\n",
    "\n",
    "from sklearn.preprocessing import FunctionTransformer"
   ]
  },
  {
   "cell_type": "code",
   "execution_count": 3,
   "metadata": {},
   "outputs": [],
   "source": [
    "from plotnine import *"
   ]
  },
  {
   "cell_type": "code",
   "execution_count": 4,
   "metadata": {},
   "outputs": [],
   "source": [
    "class RemoveOutliers():\n",
    "\n",
    "    def __init__(self):\n",
    "        self.estimator = KNN()\n",
    "\n",
    "    def _remove(self,X):\n",
    "        preds = self.estimator.predict(X)\n",
    "        return X[preds , :]\n",
    "\n",
    "    def fit(self,X,y=None):\n",
    "        self.estimator.fit(X)\n",
    "        return self\n",
    "\n",
    "    def transform(self,X,y=None):\n",
    "        return self._remove(X)"
   ]
  },
  {
   "cell_type": "code",
   "execution_count": 5,
   "metadata": {},
   "outputs": [],
   "source": [
    "adf = getTrainingData()\n",
    "#adf = adf.dropna(thresh=adf.shape[0]*0.7 , axis=1)\n",
    "\n",
    "cols_useless =[ \"encounter_id\", \"hospital_id\",\"patient_id\" , \"icu_id\" , \"gender\" , \"ethnicity\"]\n",
    "#adf = adf.drop(cols_useless,  axis=1)\n",
    "\n",
    "#cat_cols = [c for c in getCategorialColumns(adf) if c not in cols_useless + [\"hospital_death\"]]\n",
    "def tooManyMissing(adf):\n",
    "    tdf = adf.dropna(thresh=adf.shape[0]*0.8 , axis=1)\n",
    "    return list(set(adf.columns).difference(set(tdf.columns)))\n",
    "\n",
    "tooManyMissing_cols = tooManyMissing(adf)\n",
    "\n",
    "cat_cols = [c for c in getCategorialColumns(adf) if c not in [\"hospital_death\"] + tooManyMissing_cols]\n",
    "num_cols = [c for c in getNumericColumns(adf) if c not in tooManyMissing_cols]\n",
    "DEPENDENT_VARIABLE = getDependentVariable()\n",
    "\n",
    "numeric_cols_pipe = Pipeline(steps=[\n",
    "    ('mean impute' ,SimpleImputer(strategy=\"mean\") )\n",
    "    ,('Standard Scale' ,StandardScaler() )\n",
    "])\n",
    "\n",
    "\n",
    "cat_cols_pipe = Pipeline(steps=[\n",
    "    ('Drop Useless' ,\n",
    "        ColumnTransformer([\n",
    "            ('Drop Useless Categorical Features' ,'drop' ,cols_useless )\n",
    "        ],remainder='passthrough')\n",
    "    )\n",
    "    ,('Most Frequent impute' ,SimpleImputer(strategy=\"most_frequent\"))\n",
    "    ,('Encoding' , WOEEncoder())\n",
    "])\n",
    "\n",
    "transform_pipe = Pipeline(steps=[\n",
    "         ('Column Transform' ,\n",
    "            ColumnTransformer([\n",
    "                ('Drop Too Many Missing' , 'drop' , tooManyMissing_cols)\n",
    "                ,('Cat Cols Pipe' ,cat_cols_pipe ,cat_cols )\n",
    "                ,('Numeric Cols Pipe' ,numeric_cols_pipe ,num_cols )\n",
    "            ])\n",
    "    )\n",
    "    #,('Drop Outlier Rows' ,RemoveOutliers())\n",
    "    ,('Scale Everything' , StandardScaler())\n",
    "\n",
    "])\n",
    "\n",
    "X = adf.drop([DEPENDENT_VARIABLE] , axis=1)\n",
    "y = adf[DEPENDENT_VARIABLE]"
   ]
  },
  {
   "cell_type": "code",
   "execution_count": 6,
   "metadata": {},
   "outputs": [],
   "source": [
    "trX = transform_pipe.fit_transform(X,y)"
   ]
  },
  {
   "cell_type": "code",
   "execution_count": 7,
   "metadata": {},
   "outputs": [
    {
     "data": {
      "text/plain": [
       "(91713, 97)"
      ]
     },
     "execution_count": 7,
     "metadata": {},
     "output_type": "execute_result"
    }
   ],
   "source": [
    "trX.shape"
   ]
  },
  {
   "cell_type": "code",
   "execution_count": 8,
   "metadata": {},
   "outputs": [
    {
     "name": "stderr",
     "output_type": "stream",
     "text": [
      "Using TensorFlow backend.\n"
     ]
    }
   ],
   "source": [
    "from keras.wrappers.scikit_learn import KerasClassifier\n",
    "import tensorflow as tf\n",
    "from tensorflow import keras\n",
    "\n",
    "\n",
    "def create_keras_model(dim):\n",
    "\n",
    "    def cl():\n",
    "        model = keras.Sequential()\n",
    "#         model.add(keras.layers.Dense(150,activation='relu', input_dim=dim))\n",
    "#         model.add(keras.layers.Dense(130,activation='relu', input_dim=dim))\n",
    "#         model.add(keras.layers.Dense(100,activation='relu', input_dim=dim))\n",
    "#         model.add(keras.layers.Dense(90,activation='sigmoid'))\n",
    "#        model.add(keras.layers.Dense(80,activation='sigmoid'))\n",
    "        model.add(keras.layers.Dense(70,activation='sigmoid'))\n",
    "        model.add(keras.layers.Dense(60,activation='relu'))\n",
    "        model.add(keras.layers.Dense(40,activation='relu'))\n",
    "        model.add(keras.layers.Dense(30,activation='relu'))\n",
    "        model.add(keras.layers.Dense(20,activation='sigmoid'))\n",
    "        model.add(keras.layers.Dense(10,activation='sigmoid'))\n",
    "        model.add(keras.layers.Dense(1,activation='sigmoid'))\n",
    "        model.compile(loss=keras.losses.BinaryCrossentropy(),optimizer=keras.optimizers.Adam(lr=1e-3), metrics=[ keras.metrics.AUC(name='auc')])\n",
    "        return model\n",
    "\n",
    "    return cl\n",
    "\n",
    "\n",
    "build_fn = create_keras_model(trX.shape[1])\n",
    "kerasclf = KerasClassifier(build_fn,verbose=0)"
   ]
  },
  {
   "cell_type": "code",
   "execution_count": 9,
   "metadata": {},
   "outputs": [],
   "source": [
    "from sklearn.svm import SVC\n",
    "\n",
    "svclf = SVC(probability=True)\n"
   ]
  },
  {
   "cell_type": "code",
   "execution_count": 10,
   "metadata": {},
   "outputs": [],
   "source": [
    "import lightgbm as lgb\n",
    "params =params = {\n",
    "  'max_depth': 10,\n",
    "  'n_estimators ': 1000,\n",
    "  'objective': 'binary',\n",
    "  'colsample_bytree': 0.2,\n",
    "  'subsample':0.5,\n",
    "  \"class_weight\":{0:1 , 1:200},\n",
    "  \"base_score\":0.18,\n",
    "  \"n_jobs\":-1,\n",
    "  \"metric\":\"auc\",\n",
    "  \"reg_alpha\":250,\n",
    "  \"reg_lambda\":500,\n",
    "}\n",
    "\n",
    "lgclf = lgb.LGBMClassifier(**params)\n",
    "\n"
   ]
  },
  {
   "cell_type": "code",
   "execution_count": 11,
   "metadata": {},
   "outputs": [],
   "source": [
    "from mlxtend.classifier import StackingClassifier\n",
    "from sklearn.linear_model import LogisticRegression\n",
    "lr = LogisticRegression()\n",
    "stackingClf = StackingClassifier(classifiers=[kerasclf, lgclf , svclf], \n",
    "                                 use_probas=True,\n",
    "                                 average_probas=False,\n",
    "                                 drop_last_proba=True,\n",
    "                          meta_classifier=lr)\n",
    "\n",
    "#stackingClf = StackingClassifier(estimators=[('deep' , kerasclf) , ('light' , lgclf)])\n",
    "\n"
   ]
  },
  {
   "cell_type": "code",
   "execution_count": 12,
   "metadata": {},
   "outputs": [],
   "source": [
    "whatevclf = stackingClf"
   ]
  },
  {
   "cell_type": "code",
   "execution_count": 13,
   "metadata": {},
   "outputs": [
    {
     "name": "stderr",
     "output_type": "stream",
     "text": [
      "/opt/conda/lib/python3.7/site-packages/joblib/externals/loky/process_executor.py:706: UserWarning: A worker stopped while some jobs were given to the executor. This can be caused by a too short worker timeout or by a memory leak.\n",
      "  \"timeout or by a memory leak.\", UserWarning\n"
     ]
    }
   ],
   "source": [
    "from sklearn.model_selection import learning_curve\n",
    "\n",
    "\n",
    "train_sizes, train_scores, valid_scores = learning_curve(whatevclf, trX, y,scoring=\"roc_auc\", train_sizes=np.linspace(0.1, 1.0, 10), cv=2 , n_jobs=-1)\n",
    "\n"
   ]
  },
  {
   "cell_type": "code",
   "execution_count": 14,
   "metadata": {},
   "outputs": [
    {
     "data": {
      "image/png": "[encoded data removed]",
      "text/plain": [
       "<Figure size 640x480 with 1 Axes>"
      ]
     },
     "metadata": {},
     "output_type": "display_data"
    },
    {
     "data": {
      "text/plain": [
       "<ggplot: (8790381010325)>"
      ]
     },
     "execution_count": 14,
     "metadata": {},
     "output_type": "execute_result"
    }
   ],
   "source": [
    "lcurveplotdf = pd.DataFrame({\"train_size\":train_sizes , \"train_score\" : train_scores[:,1] , \"valid_score\":valid_scores[:,1]})\n",
    "\n",
    "ggplot(lcurveplotdf ) + \\\n",
    "    geom_line(aes(x=\"train_size\" , y=\"train_score\") , color=\"red\") + \\\n",
    "    geom_line(aes(x=\"train_size\" , y=\"valid_score\") , color=\"green\")"
   ]
  },
  {
   "cell_type": "code",
   "execution_count": null,
   "metadata": {},
   "outputs": [],
   "source": []
  }
 ],
 "metadata": {
  "kernelspec": {
   "display_name": "Python 3",
   "language": "python",
   "name": "python3"
  },
  "language_info": {
   "codemirror_mode": {
    "name": "ipython",
    "version": 3
   },
   "file_extension": ".py",
   "mimetype": "text/x-python",
   "name": "python",
   "nbconvert_exporter": "python",
   "pygments_lexer": "ipython3",
   "version": "3.7.6"
  }
 },
 "nbformat": 4,
 "nbformat_minor": 4
}
